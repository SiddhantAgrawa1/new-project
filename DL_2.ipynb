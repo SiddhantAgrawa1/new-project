{
  "nbformat": 4,
  "nbformat_minor": 0,
  "metadata": {
    "colab": {
      "provenance": []
    },
    "kernelspec": {
      "name": "python3",
      "display_name": "Python 3"
    },
    "language_info": {
      "name": "python"
    }
  },
  "cells": [
    {
      "cell_type": "code",
      "execution_count": null,
      "metadata": {
        "id": "wm_gdRYBVuh0"
      },
      "outputs": [],
      "source": [
        "import tensorflow as tf\n",
        "from tensorflow import keras \n",
        "import numpy as np"
      ]
    },
    {
      "cell_type": "code",
      "source": [
        "imdb = keras.datasets.imdb\n",
        "(train_data,train_labels), (test_data,test_labels) = imdb.load_data(num_words=10000)\n"
      ],
      "metadata": {
        "colab": {
          "base_uri": "https://localhost:8080/"
        },
        "id": "YKulgVq_V2fa",
        "outputId": "724b0888-67e5-4b37-b2ed-d8162cabca50"
      },
      "execution_count": null,
      "outputs": [
        {
          "output_type": "stream",
          "name": "stdout",
          "text": [
            "Downloading data from https://storage.googleapis.com/tensorflow/tf-keras-datasets/imdb.npz\n",
            "17464789/17464789 [==============================] - 0s 0us/step\n"
          ]
        }
      ]
    },
    {
      "cell_type": "code",
      "source": [
        "word_index = imdb.get_word_index()\n",
        "\n",
        "word_index = {k : (v + 3) for k,v in word_index.items()}\n",
        "word_index['<PAD>'] = 0\n",
        "word_index['<START>'] = 1\n",
        "word_index['<UNK>'] = 2\n",
        "word_index['<UNUSED>'] = 3\n"
      ],
      "metadata": {
        "colab": {
          "base_uri": "https://localhost:8080/"
        },
        "id": "WWRQVMlvWbib",
        "outputId": "b9aa5e2e-8c6e-4de5-9e69-589fea43ebac"
      },
      "execution_count": null,
      "outputs": [
        {
          "output_type": "stream",
          "name": "stdout",
          "text": [
            "Downloading data from https://storage.googleapis.com/tensorflow/tf-keras-datasets/imdb_word_index.json\n",
            "1641221/1641221 [==============================] - 0s 0us/step\n"
          ]
        }
      ]
    },
    {
      "cell_type": "code",
      "source": [
        "reserve_word_index = dict([(value,key) for (key,value) in word_index.items()])"
      ],
      "metadata": {
        "id": "vGaFd4XVW9bL"
      },
      "execution_count": null,
      "outputs": []
    },
    {
      "cell_type": "code",
      "source": [
        "def decode_review(text) :\n",
        "  return ' '.join([reverse.word_index.get(i,'?') for i in text])"
      ],
      "metadata": {
        "id": "5fS1wwgrXLVM"
      },
      "execution_count": null,
      "outputs": []
    },
    {
      "cell_type": "code",
      "source": [
        "train_data = keras.preprocessing.sequence.pad_sequences(train_data,\n",
        "value=word_index[\"<PAD>\"], padding='post', maxlen=256)\n",
        "test_data = keras.preprocessing.sequence.pad_sequences(test_data,\n",
        "value=word_index[\"<PAD>\"], padding='post', maxlen=256)"
      ],
      "metadata": {
        "id": "wrzYvRXkXdTt"
      },
      "execution_count": null,
      "outputs": []
    },
    {
      "cell_type": "code",
      "source": [
        "model = keras.Sequential([\n",
        "keras.layers.Embedding(10000, 16),\n",
        "keras.layers.GlobalAveragePooling1D(),\n",
        "keras.layers.Dense(16, activation=tf.nn.relu),\n",
        "keras.layers.Dense(1, activation=tf.nn.sigmoid)\n",
        "])"
      ],
      "metadata": {
        "id": "z4c43XFVXjZG"
      },
      "execution_count": null,
      "outputs": []
    },
    {
      "cell_type": "code",
      "source": [
        "model.compile(optimizer='adam', loss='binary_crossentropy',\n",
        "metrics=['accuracy'])"
      ],
      "metadata": {
        "id": "Uz6O2XGHXr5A"
      },
      "execution_count": null,
      "outputs": []
    },
    {
      "cell_type": "code",
      "source": [
        "history = model.fit(train_data, train_labels, epochs=30, batch_size=512,\n",
        "validation_split=0.2)"
      ],
      "metadata": {
        "colab": {
          "base_uri": "https://localhost:8080/"
        },
        "id": "oKKeU89GXt4p",
        "outputId": "a0527414-9008-4812-d06f-502b799b867b"
      },
      "execution_count": null,
      "outputs": [
        {
          "output_type": "stream",
          "name": "stdout",
          "text": [
            "Epoch 1/30\n",
            "40/40 [==============================] - 2s 26ms/step - loss: 0.6919 - accuracy: 0.5415 - val_loss: 0.6878 - val_accuracy: 0.6280\n",
            "Epoch 2/30\n",
            "40/40 [==============================] - 1s 21ms/step - loss: 0.6822 - accuracy: 0.6987 - val_loss: 0.6728 - val_accuracy: 0.7434\n",
            "Epoch 3/30\n",
            "40/40 [==============================] - 1s 20ms/step - loss: 0.6611 - accuracy: 0.7567 - val_loss: 0.6444 - val_accuracy: 0.7626\n",
            "Epoch 4/30\n",
            "40/40 [==============================] - 1s 19ms/step - loss: 0.6247 - accuracy: 0.7801 - val_loss: 0.6019 - val_accuracy: 0.7946\n",
            "Epoch 5/30\n",
            "40/40 [==============================] - 1s 20ms/step - loss: 0.5747 - accuracy: 0.8214 - val_loss: 0.5493 - val_accuracy: 0.8094\n",
            "Epoch 6/30\n",
            "40/40 [==============================] - 1s 20ms/step - loss: 0.5163 - accuracy: 0.8382 - val_loss: 0.4947 - val_accuracy: 0.8262\n",
            "Epoch 7/30\n",
            "40/40 [==============================] - 1s 20ms/step - loss: 0.4566 - accuracy: 0.8571 - val_loss: 0.4434 - val_accuracy: 0.8478\n",
            "Epoch 8/30\n",
            "40/40 [==============================] - 1s 21ms/step - loss: 0.4023 - accuracy: 0.8727 - val_loss: 0.4014 - val_accuracy: 0.8576\n",
            "Epoch 9/30\n",
            "40/40 [==============================] - 1s 24ms/step - loss: 0.3585 - accuracy: 0.8819 - val_loss: 0.3707 - val_accuracy: 0.8634\n",
            "Epoch 10/30\n",
            "40/40 [==============================] - 1s 33ms/step - loss: 0.3248 - accuracy: 0.8916 - val_loss: 0.3487 - val_accuracy: 0.8658\n",
            "Epoch 11/30\n",
            "40/40 [==============================] - 1s 30ms/step - loss: 0.2986 - accuracy: 0.8971 - val_loss: 0.3323 - val_accuracy: 0.8694\n",
            "Epoch 12/30\n",
            "40/40 [==============================] - 1s 20ms/step - loss: 0.2771 - accuracy: 0.9027 - val_loss: 0.3198 - val_accuracy: 0.8746\n",
            "Epoch 13/30\n",
            "40/40 [==============================] - 1s 20ms/step - loss: 0.2598 - accuracy: 0.9077 - val_loss: 0.3104 - val_accuracy: 0.8776\n",
            "Epoch 14/30\n",
            "40/40 [==============================] - 1s 21ms/step - loss: 0.2440 - accuracy: 0.9135 - val_loss: 0.3036 - val_accuracy: 0.8786\n",
            "Epoch 15/30\n",
            "40/40 [==============================] - 1s 20ms/step - loss: 0.2309 - accuracy: 0.9186 - val_loss: 0.2968 - val_accuracy: 0.8820\n",
            "Epoch 16/30\n",
            "40/40 [==============================] - 1s 20ms/step - loss: 0.2190 - accuracy: 0.9222 - val_loss: 0.2922 - val_accuracy: 0.8840\n",
            "Epoch 17/30\n",
            "40/40 [==============================] - 1s 19ms/step - loss: 0.2081 - accuracy: 0.9266 - val_loss: 0.2910 - val_accuracy: 0.8822\n",
            "Epoch 18/30\n",
            "40/40 [==============================] - 1s 20ms/step - loss: 0.1990 - accuracy: 0.9299 - val_loss: 0.2869 - val_accuracy: 0.8856\n",
            "Epoch 19/30\n",
            "40/40 [==============================] - 1s 20ms/step - loss: 0.1895 - accuracy: 0.9335 - val_loss: 0.2852 - val_accuracy: 0.8880\n",
            "Epoch 20/30\n",
            "40/40 [==============================] - 1s 20ms/step - loss: 0.1812 - accuracy: 0.9367 - val_loss: 0.2837 - val_accuracy: 0.8870\n",
            "Epoch 21/30\n",
            "40/40 [==============================] - 1s 20ms/step - loss: 0.1733 - accuracy: 0.9399 - val_loss: 0.2836 - val_accuracy: 0.8880\n",
            "Epoch 22/30\n",
            "40/40 [==============================] - 1s 20ms/step - loss: 0.1666 - accuracy: 0.9421 - val_loss: 0.2853 - val_accuracy: 0.8876\n",
            "Epoch 23/30\n",
            "40/40 [==============================] - 1s 20ms/step - loss: 0.1602 - accuracy: 0.9442 - val_loss: 0.2852 - val_accuracy: 0.8876\n",
            "Epoch 24/30\n",
            "40/40 [==============================] - 1s 31ms/step - loss: 0.1546 - accuracy: 0.9465 - val_loss: 0.2834 - val_accuracy: 0.8904\n",
            "Epoch 25/30\n",
            "40/40 [==============================] - 1s 35ms/step - loss: 0.1475 - accuracy: 0.9496 - val_loss: 0.2848 - val_accuracy: 0.8900\n",
            "Epoch 26/30\n",
            "40/40 [==============================] - 1s 23ms/step - loss: 0.1424 - accuracy: 0.9515 - val_loss: 0.2877 - val_accuracy: 0.8898\n",
            "Epoch 27/30\n",
            "40/40 [==============================] - 1s 21ms/step - loss: 0.1370 - accuracy: 0.9542 - val_loss: 0.2880 - val_accuracy: 0.8890\n",
            "Epoch 28/30\n",
            "40/40 [==============================] - 1s 20ms/step - loss: 0.1317 - accuracy: 0.9567 - val_loss: 0.2904 - val_accuracy: 0.8900\n",
            "Epoch 29/30\n",
            "40/40 [==============================] - 1s 20ms/step - loss: 0.1270 - accuracy: 0.9589 - val_loss: 0.2930 - val_accuracy: 0.8898\n",
            "Epoch 30/30\n",
            "40/40 [==============================] - 1s 21ms/step - loss: 0.1225 - accuracy: 0.9604 - val_loss: 0.2970 - val_accuracy: 0.8860\n"
          ]
        }
      ]
    },
    {
      "cell_type": "code",
      "source": [
        "results = model.evaluate(test_data, test_labels)\n",
        "print('Test accuracy:', results[1])"
      ],
      "metadata": {
        "colab": {
          "base_uri": "https://localhost:8080/"
        },
        "id": "yEAsVLIuXzBr",
        "outputId": "44bfe495-e43f-4e2e-ff08-48be2c5caf95"
      },
      "execution_count": null,
      "outputs": [
        {
          "output_type": "stream",
          "name": "stdout",
          "text": [
            "782/782 [==============================] - 2s 2ms/step - loss: 0.3141 - accuracy: 0.8764\n",
            "Test accuracy: 0.8763599991798401\n"
          ]
        }
      ]
    },
    {
      "cell_type": "code",
      "source": [
        "# Use the model to predict the sentiment of new reviews\n",
        "new_reviews = ['The movie was great!', 'The movie was excellent.', \"I was bored in movie\", 'It was bad', \"Don't watch boring\"]\n",
        "new_review_sequences = [np.array([word_index.get(word, 2) for word in review.lower().split()]) for review in new_reviews]\n",
        "new_review_sequences = keras.preprocessing.sequence.pad_sequences(new_review_sequences, value=word_index[\"<PAD>\"],\n",
        "padding='post', maxlen=256)\n",
        "print('Predictions:', model.predict(new_review_sequences).flatten())"
      ],
      "metadata": {
        "colab": {
          "base_uri": "https://localhost:8080/"
        },
        "id": "Ri41InJ6YIdb",
        "outputId": "ca5bee61-6bc0-449f-dffa-d8a82a1bcb3b"
      },
      "execution_count": null,
      "outputs": [
        {
          "output_type": "stream",
          "name": "stdout",
          "text": [
            "1/1 [==============================] - 0s 149ms/step\n",
            "Predictions: [0.69750094 0.69750094 0.567767   0.5890563  0.50704515]\n"
          ]
        }
      ]
    },
    {
      "cell_type": "code",
      "source": [],
      "metadata": {
        "id": "A7KPjp0XYXzm"
      },
      "execution_count": null,
      "outputs": []
    }
  ]
}