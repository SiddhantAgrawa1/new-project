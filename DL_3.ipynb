{
  "nbformat": 4,
  "nbformat_minor": 0,
  "metadata": {
    "colab": {
      "provenance": []
    },
    "kernelspec": {
      "name": "python3",
      "display_name": "Python 3"
    },
    "language_info": {
      "name": "python"
    }
  },
  "cells": [
    {
      "cell_type": "code",
      "execution_count": 1,
      "metadata": {
        "id": "BKROoemSY8Wv"
      },
      "outputs": [],
      "source": [
        "import tensorflow as tf\n",
        "from tensorflow import keras\n",
        "import numpy as np\n",
        "import matplotlib.pyplot as plt"
      ]
    },
    {
      "cell_type": "code",
      "source": [
        "(x_train, y_train), (x_test, y_test) = keras.datasets.fashion_mnist.load_data()"
      ],
      "metadata": {
        "colab": {
          "base_uri": "https://localhost:8080/"
        },
        "id": "v7VLM3Y7VFF7",
        "outputId": "99a69b05-c089-498f-a327-cd1edf6d50bd"
      },
      "execution_count": 3,
      "outputs": [
        {
          "output_type": "stream",
          "name": "stdout",
          "text": [
            "Downloading data from https://storage.googleapis.com/tensorflow/tf-keras-datasets/train-labels-idx1-ubyte.gz\n",
            "29515/29515 [==============================] - 0s 0us/step\n",
            "Downloading data from https://storage.googleapis.com/tensorflow/tf-keras-datasets/train-images-idx3-ubyte.gz\n",
            "26421880/26421880 [==============================] - 0s 0us/step\n",
            "Downloading data from https://storage.googleapis.com/tensorflow/tf-keras-datasets/t10k-labels-idx1-ubyte.gz\n",
            "5148/5148 [==============================] - 0s 0us/step\n",
            "Downloading data from https://storage.googleapis.com/tensorflow/tf-keras-datasets/t10k-images-idx3-ubyte.gz\n",
            "4422102/4422102 [==============================] - 0s 0us/step\n"
          ]
        }
      ]
    },
    {
      "cell_type": "code",
      "source": [
        "x_train = x_train.astype('float32') / 255.0\n",
        "x_test = x_test.astype('float32') / 255.0"
      ],
      "metadata": {
        "id": "x4vhAQQNVGgi"
      },
      "execution_count": 4,
      "outputs": []
    },
    {
      "cell_type": "code",
      "source": [
        "x_train = np.expand_dims(x_train, axis=-1)\n",
        "x_test = np.expand_dims(x_test, axis=-1)"
      ],
      "metadata": {
        "id": "2OCARTxnVInE"
      },
      "execution_count": 5,
      "outputs": []
    },
    {
      "cell_type": "code",
      "source": [
        "model = keras.Sequential([\n",
        "keras.layers.Conv2D(32, (3,3), padding='same', activation='relu',input_shape=(28,28,1)),\n",
        "keras.layers.MaxPooling2D((2,2)),\n",
        "keras.layers.Conv2D(64, (3,3), padding='same', activation='relu'),\n",
        "keras.layers.MaxPooling2D((2,2)),\n",
        "keras.layers.Flatten(),\n",
        "keras.layers.Dense(128, activation='relu'),\n",
        "keras.layers.Dense(10, activation='softmax')\n",
        "])"
      ],
      "metadata": {
        "id": "T3V0BQIbVQqR"
      },
      "execution_count": 6,
      "outputs": []
    },
    {
      "cell_type": "code",
      "source": [
        "model.compile(optimizer='adam',\n",
        "loss='sparse_categorical_crossentropy',\n",
        "metrics=['accuracy'])"
      ],
      "metadata": {
        "id": "_moNS8SxVVer"
      },
      "execution_count": 7,
      "outputs": []
    },
    {
      "cell_type": "code",
      "source": [
        "history = model.fit(x_train, y_train, epochs=1, validation_data=(x_test,y_test))"
      ],
      "metadata": {
        "colab": {
          "base_uri": "https://localhost:8080/"
        },
        "id": "8wfhmkyAVZTK",
        "outputId": "f56c376b-ef59-4b70-ab87-8653971b1995"
      },
      "execution_count": 8,
      "outputs": [
        {
          "output_type": "stream",
          "name": "stdout",
          "text": [
            "1875/1875 [==============================] - 62s 32ms/step - loss: 0.4052 - accuracy: 0.8540 - val_loss: 0.3353 - val_accuracy: 0.8756\n"
          ]
        }
      ]
    },
    {
      "cell_type": "code",
      "source": [
        "test_loss, test_acc = model.evaluate(x_test, y_test)\n",
        "print('Test accuracy:', test_acc)"
      ],
      "metadata": {
        "colab": {
          "base_uri": "https://localhost:8080/"
        },
        "id": "HFVYwqk4VgZS",
        "outputId": "33d4448f-3ebd-4361-bb0e-11cf97e93642"
      },
      "execution_count": 9,
      "outputs": [
        {
          "output_type": "stream",
          "name": "stdout",
          "text": [
            "313/313 [==============================] - 3s 9ms/step - loss: 0.3353 - accuracy: 0.8756\n",
            "Test accuracy: 0.8755999803543091\n"
          ]
        }
      ]
    },
    {
      "cell_type": "code",
      "source": [
        "predictions = model.predict(x_test)"
      ],
      "metadata": {
        "colab": {
          "base_uri": "https://localhost:8080/"
        },
        "id": "x8hZjDZSVjfL",
        "outputId": "33241948-d0fd-483f-aab8-2e0665f73311"
      },
      "execution_count": 10,
      "outputs": [
        {
          "output_type": "stream",
          "name": "stdout",
          "text": [
            "313/313 [==============================] - 3s 9ms/step\n"
          ]
        }
      ]
    },
    {
      "cell_type": "code",
      "source": [
        "def chooseClass(prediction):\n",
        "  predictionClass = 0\n",
        "  maxProbability = 0\n",
        "  for i in range(len(prediction)):\n",
        "    probability = prediction[i]\n",
        "    if probability > maxProbability:\n",
        "      maxProbability = probability\n",
        "      predictionClass = i\n",
        "  return predictionClass"
      ],
      "metadata": {
        "id": "fY3F9mo1V3T7"
      },
      "execution_count": 11,
      "outputs": []
    },
    {
      "cell_type": "code",
      "source": [
        "y_pred = np.array(list(map(chooseClass, predictions)))"
      ],
      "metadata": {
        "id": "02XVv0vfWBdY"
      },
      "execution_count": 12,
      "outputs": []
    },
    {
      "cell_type": "code",
      "source": [
        "from sklearn.metrics import classification_report, confusion_matrix\n",
        "print(confusion_matrix(y_pred=y_pred, y_true=y_test))\n",
        "print(classification_report(y_pred=y_pred, y_true=y_test))"
      ],
      "metadata": {
        "colab": {
          "base_uri": "https://localhost:8080/"
        },
        "id": "1mTXZmRSWCFx",
        "outputId": "f9980dfd-4576-4404-bf6d-0415e6f25c61"
      },
      "execution_count": 13,
      "outputs": [
        {
          "output_type": "stream",
          "name": "stdout",
          "text": [
            "[[831   0   5  25   2   0 126   0  11   0]\n",
            " [  1 969   0  22   2   0   4   0   2   0]\n",
            " [ 16   1 677  11  95   0 198   0   2   0]\n",
            " [ 17   2   1 920  11   0  48   0   1   0]\n",
            " [  0   1  27  53 704   0 215   0   0   0]\n",
            " [  0   0   0   0   0 964   0  12   0  24]\n",
            " [119   1  24  34  25   0 782   0  15   0]\n",
            " [  0   0   0   0   0   6   0 958   1  35]\n",
            " [  0   1   0   5   0   1   6   4 983   0]\n",
            " [  0   0   0   0   0   2   1  29   0 968]]\n",
            "              precision    recall  f1-score   support\n",
            "\n",
            "           0       0.84      0.83      0.84      1000\n",
            "           1       0.99      0.97      0.98      1000\n",
            "           2       0.92      0.68      0.78      1000\n",
            "           3       0.86      0.92      0.89      1000\n",
            "           4       0.84      0.70      0.77      1000\n",
            "           5       0.99      0.96      0.98      1000\n",
            "           6       0.57      0.78      0.66      1000\n",
            "           7       0.96      0.96      0.96      1000\n",
            "           8       0.97      0.98      0.98      1000\n",
            "           9       0.94      0.97      0.96      1000\n",
            "\n",
            "    accuracy                           0.88     10000\n",
            "   macro avg       0.89      0.88      0.88     10000\n",
            "weighted avg       0.89      0.88      0.88     10000\n",
            "\n"
          ]
        }
      ]
    },
    {
      "cell_type": "code",
      "source": [],
      "metadata": {
        "id": "5lKKI5x7WHL6"
      },
      "execution_count": null,
      "outputs": []
    }
  ]
}